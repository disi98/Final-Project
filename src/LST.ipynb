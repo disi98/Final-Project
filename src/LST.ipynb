{
 "cells": [
  {
   "cell_type": "code",
   "execution_count": null,
   "id": "93dcee69",
   "metadata": {
    "vscode": {
     "languageId": "plaintext"
    }
   },
   "outputs": [],
   "source": [
    "import matplotlib.pyplot as plt\n",
    "import numpy as np"
   ]
  },
  {
   "cell_type": "code",
   "execution_count": null,
   "id": "e6c6147e",
   "metadata": {
    "vscode": {
     "languageId": "plaintext"
    }
   },
   "outputs": [],
   "source": [
    "years = [1983, 1993, 2003, 2013, 2023]\n",
    "\n",
    "# Values\n",
    "ngong_ndvi = [0.268, 0.201, 0.261, 0.252, 0.263]\n",
    "ltwp_ndvi  = [0.055, 0.054, 0.060, 0.073, 0.084]\n",
    "\n",
    "# --- Bar Graph (Values) ---\n",
    "x = np.arange(len(years))\n",
    "width = 0.35\n",
    "\n",
    "plt.bar(x - width/2, ngong_ndvi, width, label='Ngong')\n",
    "plt.bar(x + width/2, ltwp_ndvi, width, label='LTWP')\n",
    "\n",
    "plt.xticks(x, years)\n",
    "plt.ylabel(\"NDVI\")\n",
    "plt.title(\"NDVI Trends Over Time\")\n",
    "plt.legend()\n",
    "plt.show()\n",
    "\n",
    "# --- Bar Graph (Change) ---\n",
    "ngong_change = np.diff(ngong_ndvi)\n",
    "ltwp_change = np.diff(ltwp_ndvi)\n",
    "\n",
    "plt.bar(x[:-1] - width/2, ngong_change, width, label='Ngong Change')\n",
    "plt.bar(x[:-1] + width/2, ltwp_change, width, label='LTWP Change')\n",
    "\n",
    "plt.xticks(x[:-1], [f\"{years[i]}-{years[i+1]}\" for i in range(len(years)-1)])\n",
    "plt.ylabel(\"Δ NDVI\")\n",
    "plt.title(\"NDVI Change Over Time Intervals\")\n",
    "plt.legend()\n",
    "plt.show()\n"
   ]
  },
  {
   "cell_type": "code",
   "execution_count": null,
   "id": "4425a3d3",
   "metadata": {
    "vscode": {
     "languageId": "plaintext"
    }
   },
   "outputs": [],
   "source": []
  }
 ],
 "metadata": {
  "language_info": {
   "name": "python"
  }
 },
 "nbformat": 4,
 "nbformat_minor": 5
}
